{
  "nbformat": 4,
  "nbformat_minor": 0,
  "metadata": {
    "colab": {
      "name": "tinyCNN.ipynb",
      "provenance": [],
      "include_colab_link": true
    },
    "kernelspec": {
      "display_name": "Python 3",
      "language": "python",
      "name": "python3"
    }
  },
  "cells": [
    {
      "cell_type": "markdown",
      "metadata": {
        "id": "view-in-github",
        "colab_type": "text"
      },
      "source": [
        "<a href=\"https://colab.research.google.com/github/choiwhmarco/COGS_181/blob/main/tinyCNN.ipynb\" target=\"_parent\"><img src=\"https://colab.research.google.com/assets/colab-badge.svg\" alt=\"Open In Colab\"/></a>"
      ]
    },
    {
      "cell_type": "markdown",
      "metadata": {
        "id": "I1uNvq3GJ97V"
      },
      "source": [
        "## load data:"
      ]
    },
    {
      "cell_type": "code",
      "metadata": {
        "id": "IlePAdAeJ97W"
      },
      "source": [
        "import numpy as np\n",
        "import matplotlib.pyplot as plt\n",
        "import cv2\n",
        "import glob   # for managing path name"
      ],
      "execution_count": null,
      "outputs": []
    },
    {
      "cell_type": "code",
      "metadata": {
        "id": "WorRSdE-J97Y"
      },
      "source": [
        "#dir of data\n",
        "#place under root folder\n",
        "train_images_dir ='tiny-imagenet-200/train/'\n",
        "test_images_dir ='tiny-imagenet-200/test/'\n",
        "val_images_dir ='tiny-imagenet-200/val/'"
      ],
      "execution_count": null,
      "outputs": []
    },
    {
      "cell_type": "code",
      "metadata": {
        "id": "3gp8bLOKJ97a"
      },
      "source": [
        "#train label\n",
        "label_fliepath='tiny-imagenet-200/wnids.txt'\n",
        "file_object = open(label_fliepath,'r')\n",
        "label_dict={}   # training folder\n",
        "i=0\n",
        "for line in file_object:\n",
        "    l=line.rstrip('\\n')\n",
        "    label_dict[l]=i\n",
        "    i=i+1\n",
        "file_object.close()"
      ],
      "execution_count": null,
      "outputs": []
    },
    {
      "cell_type": "code",
      "metadata": {
        "id": "FN5a1451J97b"
      },
      "source": [
        "#train data (500 image per category, 200 categories)\n",
        "traindata=np.zeros([200*500,64,64,3],dtype ='float32') # 64*64*rgb channels \n",
        "trainlabel=np.zeros([200*500,200],dtype ='float32')\n",
        "for key in label_dict:\n",
        "    path=glob.glob(train_images_dir+key+'/images/*.JPEG')   \n",
        "    i=0\n",
        "    for imageFile in path:\n",
        "        img = cv2.imread(imageFile)  #bgr\n",
        "        traindata[label_dict[key]*500+i]=img\n",
        "        trainlabel[label_dict[key]*500+i][label_dict[key]]=1\n",
        "        i=i+1"
      ],
      "execution_count": null,
      "outputs": []
    },
    {
      "cell_type": "code",
      "metadata": {
        "id": "i2Hsp6EnJ97d"
      },
      "source": [
        "#test data\n",
        "testdata=np.zeros([10000,64,64,3],dtype ='float32')\n",
        "path=glob.glob(test_images_dir+'images/*.JPEG')\n",
        "i=0\n",
        "for imageFile in path:\n",
        "    img = cv2.imread(imageFile)  #bgr\n",
        "    testdata[i]=img\n",
        "    i=i+1    "
      ],
      "execution_count": null,
      "outputs": []
    },
    {
      "cell_type": "code",
      "metadata": {
        "id": "RTykm3UXJ97f"
      },
      "source": [
        "#validation label\n",
        "vallabel=np.zeros([10000,200],dtype ='float32')\n",
        "valpath=[None]*10000\n",
        "path=val_images_dir+'/val_annotations.txt'\n",
        "file_object = open(path,'r')\n",
        "i=0\n",
        "for line in file_object:\n",
        "    l=line.split()\n",
        "    valpath[i]=l[0]\n",
        "    vallabel[i][label_dict[l[1]]]=1\n",
        "    i=i+1\n",
        "file_object.close()"
      ],
      "execution_count": null,
      "outputs": []
    },
    {
      "cell_type": "code",
      "metadata": {
        "id": "JHUfIDOVJ97g"
      },
      "source": [
        "#val data\n",
        "valdata=np.zeros([10000,64,64,3],dtype ='float32')\n",
        "for i in range(10000):\n",
        "    img = cv2.imread(val_images_dir+'images/'+valpath[i])  #bgr\n",
        "    valdata[i]=img"
      ],
      "execution_count": null,
      "outputs": []
    },
    {
      "cell_type": "markdown",
      "metadata": {
        "id": "OTOn0u2aeDAc"
      },
      "source": [
        "## show image:"
      ]
    },
    {
      "cell_type": "code",
      "metadata": {
        "id": "ianDpT3cJ97i",
        "outputId": "b29f8b57-22a8-45f2-eaf3-409ee3b0ac0a"
      },
      "source": [
        "plt.imshow(traindata[0][...,-1::-1]/255)\n",
        "plt.show()\n",
        "plt.imshow(testdata[0][...,-1::-1]/255)\n",
        "plt.show()\n",
        "plt.imshow(valdata[0][...,-1::-1]/255)\n",
        "plt.show()"
      ],
      "execution_count": null,
      "outputs": [
        {
          "output_type": "display_data",
          "data": {
            "image/png": "[encoded data removed]",
            "text/plain": [
              "<Figure size 432x288 with 1 Axes>"
            ]
          },
          "metadata": {
            "tags": [],
            "needs_background": "light"
          }
        },
        {
          "output_type": "display_data",
          "data": {
            "image/png": "[encoded data removed]",
            "text/plain": [
              "<Figure size 432x288 with 1 Axes>"
            ]
          },
          "metadata": {
            "tags": [],
            "needs_background": "light"
          }
        },
        {
          "output_type": "display_data",
          "data": {
            "image/png": "[encoded data removed]",
            "text/plain": [
              "<Figure size 432x288 with 1 Axes>"
            ]
          },
          "metadata": {
            "tags": [],
            "needs_background": "light"
          }
        }
      ]
    },
    {
      "cell_type": "markdown",
      "metadata": {
        "id": "f-j3mvH-J97m"
      },
      "source": [
        "### Model to use  and Import libraries"
      ]
    },
    {
      "cell_type": "code",
      "metadata": {
        "id": "S0VNinxNJ97m"
      },
      "source": [
        "import tensorflow \n",
        "from tensorflow.keras.models import Sequential, Model\n",
        "from tensorflow.keras.layers import Dense, Dropout, Flatten,Input, Lambda\n",
        "from tensorflow.keras.layers import Conv2D, MaxPooling2D,AveragePooling2D\n",
        "from tensorflow.keras.optimizers import SGD,Adam\n",
        "from \n",
        "import tensorflow.keras.backend as K"
      ],
      "execution_count": null,
      "outputs": []
    },
    {
      "cell_type": "markdown",
      "metadata": {
        "id": "pKkiPMIiJ97o"
      },
      "source": [
        "## Baseline e.g. LeNet:"
      ]
    },
    {
      "cell_type": "code",
      "metadata": {
        "id": "D60fuBrIJ97o"
      },
      "source": [
        "# magic\n",
        "def scheduler(epoch):\n",
        "    if epoch>=1:\n",
        "        K.set_value(model.optimizer.lr,  0.00001)\n",
        "    if epoch>=3:\n",
        "        K.set_value(model.optimizer.lr,  0.0001) \n",
        "    if epoch>=5:\n",
        "        K.set_value(model.optimizer.lr, 0.001) \n",
        "    if epoch>=7:\n",
        "        K.set_value(model.optimizer.lr, 0.0001)     \n",
        "    if epoch>=10:\n",
        "        K.set_value(model.optimizer.lr, 0.00001) \n",
        "    return K.get_value(model.optimizer.lr)\n",
        "reduce_lr = tensorflow.keras.callbacks.LearningRateScheduler(scheduler)"
      ],
      "execution_count": null,
      "outputs": []
    },
    {
      "cell_type": "code",
      "metadata": {
        "id": "4GBgW8lbJ97q",
        "outputId": "0c5170ab-aabf-4571-97d4-9a8ab5cad168"
      },
      "source": [
        "model = Sequential()\n",
        "model.add(Conv2D(32, (3, 3), activation='relu', input_shape=(64, 64, 3)))\n",
        "model.add(MaxPooling2D(pool_size=(2, 2)))\n",
        "model.add(Conv2D(64, (3, 3), activation='relu'))\n",
        "model.add(MaxPooling2D(pool_size=(2, 2)))\n",
        "model.add(Conv2D(64, (3, 3), activation='relu'))\n",
        "model.add(MaxPooling2D(pool_size=(2, 2)))\n",
        "model.add(Flatten())\n",
        "model.add(Dense(1024, activation='relu'))\n",
        "model.add(Dense(200, activation='softmax'))"
      ],
      "execution_count": null,
      "outputs": [
        {
          "output_type": "stream",
          "text": [
            "WARNING:tensorflow:From C:\\Users\\oscar\\Anaconda2\\envs\\python 3\\lib\\site-packages\\tensorflow\\python\\ops\\resource_variable_ops.py:435: colocate_with (from tensorflow.python.framework.ops) is deprecated and will be removed in a future version.\n",
            "Instructions for updating:\n",
            "Colocations handled automatically by placer.\n"
          ],
          "name": "stdout"
        }
      ]
    },
    {
      "cell_type": "code",
      "metadata": {
        "id": "LePlfRVRJ97s",
        "outputId": "47b6cb18-8aca-41dd-c818-fdd3a8b01e68"
      },
      "source": [
        "optimizer=Adam(lr=0.00001, beta_1=0.9, beta_2=0.999, epsilon=1e-08)\n",
        "model.compile(optimizer=optimizer,loss='categorical_crossentropy',metrics=['accuracy'])\n",
        "model.fit(traindata, trainlabel, epochs=30, batch_size=64)#, callbacks=[reduce_lr]\n",
        "#使用callbacks加快训练\n",
        "#网络问题，前期学习率必须为1e-4或者更小，否则训练不下去，训练两个epoch后就可以提高学习率加快训练\n",
        "#当然也可以不用callbacks，只是要慢慢训练\n",
        "#model.fit(traindata, trainlabel, epochs=10, batch_size=64, callbacks=[reduce_lr])"
      ],
      "execution_count": null,
      "outputs": [
        {
          "output_type": "stream",
          "text": [
            "Epoch 1/30\n",
            "100000/100000 [==============================] - 256s 3ms/sample - loss: 4.6903 - acc: 0.0687\n",
            "Epoch 2/30\n",
            "100000/100000 [==============================] - 252s 3ms/sample - loss: 4.5382 - acc: 0.0862\n",
            "Epoch 3/30\n",
            "100000/100000 [==============================] - 248s 2ms/sample - loss: 4.3997 - acc: 0.1037\n",
            "Epoch 4/30\n",
            "100000/100000 [==============================] - 260s 3ms/sample - loss: 4.2719 - acc: 0.1206\n",
            "Epoch 5/30\n",
            "100000/100000 [==============================] - 251s 3ms/sample - loss: 4.1538 - acc: 0.1374\n",
            "Epoch 6/30\n",
            "100000/100000 [==============================] - 246s 2ms/sample - loss: 4.0433 - acc: 0.1522\n",
            "Epoch 7/30\n",
            "100000/100000 [==============================] - 240s 2ms/sample - loss: 3.9375 - acc: 0.1685\n",
            "Epoch 8/30\n",
            "100000/100000 [==============================] - 240s 2ms/sample - loss: 3.8360 - acc: 0.1850\n",
            "Epoch 9/30\n",
            "100000/100000 [==============================] - 239s 2ms/sample - loss: 3.7387 - acc: 0.2014\n",
            "Epoch 10/30\n",
            "100000/100000 [==============================] - 238s 2ms/sample - loss: 3.6437 - acc: 0.2163\n",
            "Epoch 11/30\n",
            "100000/100000 [==============================] - 238s 2ms/sample - loss: 3.5512 - acc: 0.2330\n",
            "Epoch 12/30\n",
            "100000/100000 [==============================] - 238s 2ms/sample - loss: 3.4611 - acc: 0.2479\n",
            "Epoch 13/30\n",
            "100000/100000 [==============================] - 239s 2ms/sample - loss: 3.3728 - acc: 0.2633\n",
            "Epoch 14/30\n",
            "100000/100000 [==============================] - 238s 2ms/sample - loss: 3.2856 - acc: 0.2798\n",
            "Epoch 15/30\n",
            "100000/100000 [==============================] - 238s 2ms/sample - loss: 3.2004 - acc: 0.2950\n",
            "Epoch 16/30\n",
            "100000/100000 [==============================] - 238s 2ms/sample - loss: 3.1174 - acc: 0.3101\n",
            "Epoch 17/30\n",
            "100000/100000 [==============================] - 239s 2ms/sample - loss: 3.0331 - acc: 0.3271\n",
            "Epoch 18/30\n",
            "100000/100000 [==============================] - 239s 2ms/sample - loss: 2.9519 - acc: 0.3428\n",
            "Epoch 19/30\n",
            "100000/100000 [==============================] - 238s 2ms/sample - loss: 2.8711 - acc: 0.3593\n",
            "Epoch 20/30\n",
            "100000/100000 [==============================] - 238s 2ms/sample - loss: 2.7914 - acc: 0.3763\n",
            "Epoch 21/30\n",
            "100000/100000 [==============================] - 238s 2ms/sample - loss: 2.7139 - acc: 0.3919\n",
            "Epoch 22/30\n",
            "100000/100000 [==============================] - 238s 2ms/sample - loss: 2.6361 - acc: 0.4087\n",
            "Epoch 23/30\n",
            "100000/100000 [==============================] - 238s 2ms/sample - loss: 2.5597 - acc: 0.4245\n",
            "Epoch 24/30\n",
            "100000/100000 [==============================] - 238s 2ms/sample - loss: 2.4833 - acc: 0.4414\n",
            "Epoch 25/30\n",
            "100000/100000 [==============================] - 239s 2ms/sample - loss: 2.4089 - acc: 0.4580\n",
            "Epoch 26/30\n",
            "100000/100000 [==============================] - 238s 2ms/sample - loss: 2.3359 - acc: 0.4737\n",
            "Epoch 27/30\n",
            "100000/100000 [==============================] - 238s 2ms/sample - loss: 2.2626 - acc: 0.4896\n",
            "Epoch 28/30\n",
            "100000/100000 [==============================] - 238s 2ms/sample - loss: 2.1912 - acc: 0.5063\n",
            "Epoch 29/30\n",
            "100000/100000 [==============================] - 238s 2ms/sample - loss: 2.1200 - acc: 0.5225\n",
            "Epoch 30/30\n",
            "100000/100000 [==============================] - 238s 2ms/sample - loss: 2.0494 - acc: 0.5382\n"
          ],
          "name": "stdout"
        },
        {
          "output_type": "execute_result",
          "data": {
            "text/plain": [
              "<tensorflow.python.keras.callbacks.History at 0x28f655c63c8>"
            ]
          },
          "metadata": {
            "tags": []
          },
          "execution_count": 23
        }
      ]
    },
    {
      "cell_type": "code",
      "metadata": {
        "id": "HmJEmUlrJ97u",
        "scrolled": true,
        "outputId": "eb97dfea-7416-4b89-f68d-61f1d297494b"
      },
      "source": [
        "p=model.evaluate(valdata, vallabel)\n",
        "print('test loss, test acc:', p)"
      ],
      "execution_count": null,
      "outputs": [
        {
          "output_type": "stream",
          "text": [
            "10000/10000 [==============================] - 11s 1ms/sample - loss: 4.7093 - acc: 0.1498\n",
            "test loss, test acc: [4.7092543197631835, 0.1498]\n"
          ],
          "name": "stdout"
        }
      ]
    },
    {
      "cell_type": "markdown",
      "metadata": {
        "id": "oABxVTw8J97x"
      },
      "source": [
        "### Result from LeNet\n",
        "    method:      epoch:    training accuracy: test accuracy:  \n",
        "    w/  callback epoch=15  0.76               0.20  \n",
        "    w/o callback epoch=10  0.1375             0.0944  \n",
        "    w/o callback epoch=30  0.5382             0.1498\n",
        "\n",
        "#### This is a baseline result."
      ]
    },
    {
      "cell_type": "markdown",
      "metadata": {
        "id": "SPFUvNpAJ97x"
      },
      "source": [
        "## VGG:\n",
        "#### Comparing architectures chosen VGG."
      ]
    },
    {
      "cell_type": "code",
      "metadata": {
        "id": "8MRUKNv-J97y",
        "outputId": "6ece1c9a-1f05-44be-fbfa-d2f14872460b"
      },
      "source": [
        "K.clear_session()\n",
        "tensorflow.reset_default_graph()\n",
        "model = Sequential()\n",
        "model.add(Conv2D(32,(3,3),strides=(1,1),input_shape=(64,64,3),padding='same',activation='relu',kernel_initializer='uniform'))\n",
        "model.add(Conv2D(32,(3,3),strides=(1,1),padding='same',activation='relu',kernel_initializer='uniform'))\n",
        "model.add(MaxPooling2D(pool_size=(2,2)))\n",
        "    \n",
        "model.add(Conv2D(64,(3,3),strides=(1,1),padding='same',activation='relu',kernel_initializer='uniform'))\n",
        "model.add(Conv2D(64,(3,3),strides=(1,1),padding='same',activation='relu',kernel_initializer='uniform'))\n",
        "model.add(MaxPooling2D(pool_size=(2,2)))\n",
        "    \n",
        "model.add(Conv2D(128,(3,3),strides=(1,1),padding='same',activation='relu',kernel_initializer='uniform'))\n",
        "model.add(Conv2D(128,(3,3),strides=(1,1),padding='same',activation='relu',kernel_initializer='uniform'))\n",
        "model.add(Conv2D(128,(3,3),strides=(1,1),padding='same',activation='relu',kernel_initializer='uniform'))\n",
        "model.add(MaxPooling2D(pool_size=(2,2)))\n",
        "    \n",
        "model.add(Conv2D(256,(3,3),strides=(1,1),padding='same',activation='relu',kernel_initializer='uniform'))\n",
        "model.add(Conv2D(256,(3,3),strides=(1,1),padding='same',activation='relu',kernel_initializer='uniform'))\n",
        "model.add(Conv2D(256,(3,3),strides=(1,1),padding='same',activation='relu',kernel_initializer='uniform'))\n",
        "model.add(MaxPooling2D(pool_size=(2,2)))\n",
        "    \n",
        "model.add(Conv2D(256,(3,3),strides=(1,1),padding='same',activation='relu',kernel_initializer='uniform'))\n",
        "model.add(Conv2D(256,(3,3),strides=(1,1),padding='same',activation='relu',kernel_initializer='uniform'))\n",
        "model.add(Conv2D(256,(3,3),strides=(1,1),padding='same',activation='relu',kernel_initializer='uniform'))\n",
        "model.add(MaxPooling2D(pool_size=(2,2)))\n",
        "    \n",
        "model.add(Flatten())\n",
        "model.add(Dense(4096,activation='relu'))\n",
        "model.add(Dropout(0.5))\n",
        "model.add(Dense(1024,activation='relu'))\n",
        "model.add(Dropout(0.5))\n",
        "model.add(Dense(200,activation='softmax'))\n",
        "\n",
        "model.summary()\n"
      ],
      "execution_count": null,
      "outputs": [
        {
          "output_type": "stream",
          "text": [
            "_________________________________________________________________\n",
            "Layer (type)                 Output Shape              Param #   \n",
            "=================================================================\n",
            "conv2d (Conv2D)              (None, 64, 64, 32)        896       \n",
            "_________________________________________________________________\n",
            "conv2d_1 (Conv2D)            (None, 64, 64, 32)        9248      \n",
            "_________________________________________________________________\n",
            "max_pooling2d (MaxPooling2D) (None, 32, 32, 32)        0         \n",
            "_________________________________________________________________\n",
            "conv2d_2 (Conv2D)            (None, 32, 32, 64)        12352     \n",
            "_________________________________________________________________\n",
            "conv2d_3 (Conv2D)            (None, 32, 32, 64)        36928     \n",
            "_________________________________________________________________\n",
            "max_pooling2d_1 (MaxPooling2 (None, 16, 16, 64)        0         \n",
            "_________________________________________________________________\n",
            "conv2d_4 (Conv2D)            (None, 16, 16, 128)       73856     \n",
            "_________________________________________________________________\n",
            "conv2d_5 (Conv2D)            (None, 16, 16, 128)       147584    \n",
            "_________________________________________________________________\n",
            "conv2d_6 (Conv2D)            (None, 16, 16, 128)       147584    \n",
            "_________________________________________________________________\n",
            "max_pooling2d_2 (MaxPooling2 (None, 8, 8, 128)         0         \n",
            "_________________________________________________________________\n",
            "conv2d_7 (Conv2D)            (None, 8, 8, 256)         295168    \n",
            "_________________________________________________________________\n",
            "conv2d_8 (Conv2D)            (None, 8, 8, 256)         590080    \n",
            "_________________________________________________________________\n",
            "conv2d_9 (Conv2D)            (None, 8, 8, 256)         590080    \n",
            "_________________________________________________________________\n",
            "max_pooling2d_3 (MaxPooling2 (None, 4, 4, 256)         0         \n",
            "_________________________________________________________________\n",
            "conv2d_10 (Conv2D)           (None, 4, 4, 256)         590080    \n",
            "_________________________________________________________________\n",
            "conv2d_11 (Conv2D)           (None, 4, 4, 256)         590080    \n",
            "_________________________________________________________________\n",
            "conv2d_12 (Conv2D)           (None, 4, 4, 256)         590080    \n",
            "_________________________________________________________________\n",
            "max_pooling2d_4 (MaxPooling2 (None, 2, 2, 256)         0         \n",
            "_________________________________________________________________\n",
            "flatten (Flatten)            (None, 1024)              0         \n",
            "_________________________________________________________________\n",
            "dense (Dense)                (None, 4096)              4198400   \n",
            "_________________________________________________________________\n",
            "dropout (Dropout)            (None, 4096)              0         \n",
            "_________________________________________________________________\n",
            "dense_1 (Dense)              (None, 1024)              4195328   \n",
            "_________________________________________________________________\n",
            "dropout_1 (Dropout)          (None, 1024)              0         \n",
            "_________________________________________________________________\n",
            "dense_2 (Dense)              (None, 200)               205000    \n",
            "=================================================================\n",
            "Total params: 12,272,744\n",
            "Trainable params: 12,272,744\n",
            "Non-trainable params: 0\n",
            "_________________________________________________________________\n"
          ],
          "name": "stdout"
        }
      ]
    },
    {
      "cell_type": "code",
      "metadata": {
        "id": "-TmB2iIcJ970",
        "outputId": "6c246124-dd96-4b0a-9953-405f4a663d09"
      },
      "source": [
        "optimizer=Adam(lr=0.0001, beta_1=0.9, beta_2=0.999, epsilon=1e-08)\n",
        "model.compile(optimizer=optimizer,loss='categorical_crossentropy',metrics=['accuracy'])\n",
        "model.fit(traindata, trainlabel, epochs=30, batch_size=64)\n"
      ],
      "execution_count": null,
      "outputs": [
        {
          "output_type": "stream",
          "text": [
            "Epoch 1/30\n",
            "100000/100000 [==============================] - 149s 1ms/step - loss: 5.1354 - acc: 0.0118\n",
            "Epoch 2/30\n",
            "100000/100000 [==============================] - 143s 1ms/step - loss: 4.6588 - acc: 0.0421\n",
            "Epoch 3/30\n",
            "100000/100000 [==============================] - 143s 1ms/step - loss: 4.2550 - acc: 0.0817\n",
            "Epoch 4/30\n",
            "100000/100000 [==============================] - 143s 1ms/step - loss: 3.9673 - acc: 0.1207\n",
            "Epoch 5/30\n",
            "100000/100000 [==============================] - 145s 1ms/step - loss: 3.7429 - acc: 0.1542\n",
            "Epoch 6/30\n",
            "100000/100000 [==============================] - 145s 1ms/step - loss: 3.5317 - acc: 0.1910\n",
            "Epoch 7/30\n",
            "100000/100000 [==============================] - 144s 1ms/step - loss: 3.3291 - acc: 0.2257\n",
            "Epoch 8/30\n",
            "100000/100000 [==============================] - 146s 1ms/step - loss: 3.1625 - acc: 0.2580\n",
            "Epoch 9/30\n",
            "100000/100000 [==============================] - 145s 1ms/step - loss: 2.9893 - acc: 0.2883\n",
            "Epoch 10/30\n",
            "100000/100000 [==============================] - 144s 1ms/step - loss: 2.8281 - acc: 0.3215\n",
            "Epoch 11/30\n",
            "100000/100000 [==============================] - 144s 1ms/step - loss: 2.6594 - acc: 0.3518\n",
            "Epoch 12/30\n",
            "100000/100000 [==============================] - 144s 1ms/step - loss: 2.4781 - acc: 0.3870\n",
            "Epoch 13/30\n",
            "100000/100000 [==============================] - 143s 1ms/step - loss: 2.2948 - acc: 0.4229\n",
            "Epoch 14/30\n",
            "100000/100000 [==============================] - 143s 1ms/step - loss: 2.1027 - acc: 0.4590\n",
            "Epoch 15/30\n",
            "100000/100000 [==============================] - 143s 1ms/step - loss: 1.9098 - acc: 0.4995\n",
            "Epoch 16/30\n",
            "100000/100000 [==============================] - 151s 2ms/step - loss: 1.7163 - acc: 0.5398\n",
            "Epoch 17/30\n",
            "100000/100000 [==============================] - 145s 1ms/step - loss: 1.5363 - acc: 0.5827\n",
            "Epoch 18/30\n",
            "100000/100000 [==============================] - 146s 1ms/step - loss: 1.3630 - acc: 0.6202\n",
            "Epoch 19/30\n",
            "100000/100000 [==============================] - 144s 1ms/step - loss: 1.2065 - acc: 0.6570\n",
            "Epoch 20/30\n",
            "100000/100000 [==============================] - 147s 1ms/step - loss: 1.0687 - acc: 0.6907\n",
            "Epoch 21/30\n",
            "100000/100000 [==============================] - 145s 1ms/step - loss: 0.9437 - acc: 0.7230\n",
            "Epoch 22/30\n",
            "100000/100000 [==============================] - 143s 1ms/step - loss: 0.8363 - acc: 0.7526\n",
            "Epoch 23/30\n",
            "100000/100000 [==============================] - 143s 1ms/step - loss: 0.7688 - acc: 0.7699\n",
            "Epoch 24/30\n",
            "100000/100000 [==============================] - 144s 1ms/step - loss: 0.6723 - acc: 0.7945\n",
            "Epoch 25/30\n",
            "100000/100000 [==============================] - 144s 1ms/step - loss: 0.6203 - acc: 0.8101\n",
            "Epoch 26/30\n",
            "100000/100000 [==============================] - 144s 1ms/step - loss: 0.5691 - acc: 0.8247\n",
            "Epoch 27/30\n",
            "100000/100000 [==============================] - 144s 1ms/step - loss: 0.5247 - acc: 0.8382\n",
            "Epoch 28/30\n",
            "100000/100000 [==============================] - 144s 1ms/step - loss: 0.4899 - acc: 0.8485\n",
            "Epoch 29/30\n",
            "100000/100000 [==============================] - 143s 1ms/step - loss: 0.4488 - acc: 0.8612\n",
            "Epoch 30/30\n",
            "100000/100000 [==============================] - 143s 1ms/step - loss: 0.4371 - acc: 0.8650\n"
          ],
          "name": "stdout"
        },
        {
          "output_type": "execute_result",
          "data": {
            "text/plain": [
              "<tensorflow.python.keras.callbacks.History at 0x210b5c59320>"
            ]
          },
          "metadata": {
            "tags": []
          },
          "execution_count": 16
        }
      ]
    },
    {
      "cell_type": "code",
      "metadata": {
        "id": "wFhwJmIVJ974",
        "outputId": "211d8851-b433-4b9a-8f43-c50b0341614b"
      },
      "source": [
        "p=model.evaluate(valdata, vallabel)\n",
        "print(p)"
      ],
      "execution_count": null,
      "outputs": [
        {
          "output_type": "stream",
          "text": [
            "10000/10000 [==============================] - 5s 532us/step\n",
            "[5.700326354980469, 0.2623]\n"
          ],
          "name": "stdout"
        }
      ]
    },
    {
      "cell_type": "markdown",
      "metadata": {
        "id": "qiGm5i9jJ976"
      },
      "source": [
        "### Result from VGG:\n",
        "    method:      epoch:    training accuracy: test accuracy:   \n",
        "    VGG          epoch=10  0.3216             0.2729  \n",
        "    VGG          epoch=30  0.8650             0.2623\n",
        "\n",
        "#### VGG has better performance than LeNet overall."
      ]
    },
    {
      "cell_type": "markdown",
      "metadata": {
        "id": "wz1WJSkaJ978"
      },
      "source": [
        "## Trying to vary the number of layers aka hw5:"
      ]
    },
    {
      "cell_type": "code",
      "metadata": {
        "id": "ICxHgf0MJ979",
        "outputId": "c0c72b74-a49a-473a-fb17-7b74811d19bc"
      },
      "source": [
        "K.clear_session()\n",
        "tensorflow.reset_default_graph()\n",
        "model = Sequential()\n",
        "model.add(Conv2D(32, (3, 3), activation='relu', input_shape=(64, 64, 3)))\n",
        "model.add(MaxPooling2D(pool_size=(3, 3)))\n",
        "model.add(Conv2D(64, (3, 3), activation='relu'))\n",
        "model.add(MaxPooling2D(pool_size=(3, 3)))\n",
        "# model.add(AveragePooling2D(pool_size=(2, 2)))\n",
        "model.add(Flatten())\n",
        "model.add(Dense(1024, activation='relu'))\n",
        "model.add(Dense(200, activation='softmax'))\n",
        "model.summary()\n",
        "# reference: hw5 - cnn\n",
        "# 2 by 2 pooling layer caused my PC to froze becasue of too many parameters at fully connected layers.\n",
        "#2x2的pooling会导致全连接层参数太多，16g的电脑跑不了。。。只能改成3x3"
      ],
      "execution_count": null,
      "outputs": [
        {
          "output_type": "stream",
          "text": [
            "_________________________________________________________________\n",
            "Layer (type)                 Output Shape              Param #   \n",
            "=================================================================\n",
            "conv2d (Conv2D)              (None, 62, 62, 32)        896       \n",
            "_________________________________________________________________\n",
            "max_pooling2d (MaxPooling2D) (None, 20, 20, 32)        0         \n",
            "_________________________________________________________________\n",
            "conv2d_1 (Conv2D)            (None, 18, 18, 64)        18496     \n",
            "_________________________________________________________________\n",
            "max_pooling2d_1 (MaxPooling2 (None, 6, 6, 64)          0         \n",
            "_________________________________________________________________\n",
            "flatten (Flatten)            (None, 2304)              0         \n",
            "_________________________________________________________________\n",
            "dense (Dense)                (None, 1024)              2360320   \n",
            "_________________________________________________________________\n",
            "dense_1 (Dense)              (None, 200)               205000    \n",
            "=================================================================\n",
            "Total params: 2,584,712\n",
            "Trainable params: 2,584,712\n",
            "Non-trainable params: 0\n",
            "_________________________________________________________________\n"
          ],
          "name": "stdout"
        }
      ]
    },
    {
      "cell_type": "code",
      "metadata": {
        "id": "kmCuMiCoJ98A",
        "outputId": "baa591c2-82fc-499b-f449-7477b0027e43"
      },
      "source": [
        "optimizer=Adam(lr=0.00001, beta_1=0.9, beta_2=0.999, epsilon=1e-08)\n",
        "model.compile(optimizer=optimizer,loss='categorical_crossentropy',metrics=['accuracy'])\n",
        "model.fit(traindata, trainlabel, epochs=30, batch_size=64)\n",
        "\n",
        "# since result far from ideal, so trained w/ callbacks as well.\n",
        "#model.fit(traindata, trainlabel, epochs=10, batch_size=64, callbacks=[reduce_lr])\n",
        "p=model.evaluate(valdata, vallabel)\n",
        "print(p)"
      ],
      "execution_count": null,
      "outputs": [
        {
          "output_type": "stream",
          "text": [
            "Epoch 1/30\n",
            "100000/100000 [==============================] - 29s 291us/step - loss: 15.8959 - acc: 0.0093\n",
            "Epoch 2/30\n",
            "100000/100000 [==============================] - 29s 286us/step - loss: 15.6793 - acc: 0.0177\n",
            "Epoch 3/30\n",
            "100000/100000 [==============================] - 29s 286us/step - loss: 15.3384 - acc: 0.0249\n",
            "Epoch 4/30\n",
            "100000/100000 [==============================] - 29s 286us/step - loss: 14.2513 - acc: 0.0241\n",
            "Epoch 5/30\n",
            "100000/100000 [==============================] - 29s 285us/step - loss: 6.2751 - acc: 0.0115\n",
            "Epoch 6/30\n",
            "100000/100000 [==============================] - 29s 286us/step - loss: 5.2657 - acc: 0.0167\n",
            "Epoch 7/30\n",
            "100000/100000 [==============================] - 29s 286us/step - loss: 5.1532 - acc: 0.0242\n",
            "Epoch 8/30\n",
            "100000/100000 [==============================] - 29s 286us/step - loss: 5.0543 - acc: 0.0320\n",
            "Epoch 9/30\n",
            "100000/100000 [==============================] - 29s 285us/step - loss: 4.9621 - acc: 0.0401\n",
            "Epoch 10/30\n",
            "100000/100000 [==============================] - 29s 286us/step - loss: 4.8699 - acc: 0.0505\n",
            "Epoch 11/30\n",
            "100000/100000 [==============================] - 29s 285us/step - loss: 4.7723 - acc: 0.0614\n",
            "Epoch 12/30\n",
            "100000/100000 [==============================] - 29s 286us/step - loss: 4.6687 - acc: 0.0749\n",
            "Epoch 13/30\n",
            "100000/100000 [==============================] - 29s 285us/step - loss: 4.5634 - acc: 0.0883\n",
            "Epoch 14/30\n",
            "100000/100000 [==============================] - 29s 286us/step - loss: 4.4575 - acc: 0.1034\n",
            "Epoch 15/30\n",
            "100000/100000 [==============================] - 29s 285us/step - loss: 4.3519 - acc: 0.1177\n",
            "Epoch 16/30\n",
            "100000/100000 [==============================] - 29s 286us/step - loss: 4.2471 - acc: 0.1325\n",
            "Epoch 17/30\n",
            "100000/100000 [==============================] - 29s 286us/step - loss: 4.1426 - acc: 0.1482\n",
            "Epoch 18/30\n",
            "100000/100000 [==============================] - 29s 286us/step - loss: 4.0397 - acc: 0.1638\n",
            "Epoch 19/30\n",
            "100000/100000 [==============================] - 29s 286us/step - loss: 3.9369 - acc: 0.1801\n",
            "Epoch 20/30\n",
            "100000/100000 [==============================] - 29s 286us/step - loss: 3.8356 - acc: 0.1975\n",
            "Epoch 21/30\n",
            "100000/100000 [==============================] - 29s 286us/step - loss: 3.7358 - acc: 0.2141\n",
            "Epoch 22/30\n",
            "100000/100000 [==============================] - 29s 286us/step - loss: 3.6377 - acc: 0.2314\n",
            "Epoch 23/30\n",
            "100000/100000 [==============================] - 29s 286us/step - loss: 3.5424 - acc: 0.2485\n",
            "Epoch 24/30\n",
            "100000/100000 [==============================] - 29s 286us/step - loss: 3.4490 - acc: 0.2652\n",
            "Epoch 25/30\n",
            "100000/100000 [==============================] - 29s 285us/step - loss: 3.3573 - acc: 0.2818\n",
            "Epoch 26/30\n",
            "100000/100000 [==============================] - 29s 286us/step - loss: 3.2684 - acc: 0.2992\n",
            "Epoch 27/30\n",
            "100000/100000 [==============================] - 29s 286us/step - loss: 3.1810 - acc: 0.3153\n",
            "Epoch 28/30\n",
            "100000/100000 [==============================] - 29s 286us/step - loss: 3.0963 - acc: 0.3318\n",
            "Epoch 29/30\n",
            "100000/100000 [==============================] - 29s 286us/step - loss: 3.0126 - acc: 0.3488\n",
            "Epoch 30/30\n",
            "100000/100000 [==============================] - 29s 286us/step - loss: 2.9310 - acc: 0.3654\n",
            "10000/10000 [==============================] - 1s 145us/step\n",
            "[4.776829548645019, 0.1103]\n"
          ],
          "name": "stdout"
        }
      ]
    },
    {
      "cell_type": "markdown",
      "metadata": {
        "id": "y8eWS5TrJ98C"
      },
      "source": [
        "### Result from Varying layers:\n",
        "    method:      epoch:    training accuracy: test accuracy:  \n",
        "    w/o callback epoch=10  0.0901             0.0625  \n",
        "    w/o callback epoch=30  0.3654             0.1103\n",
        "    w/  callback epoch=15  <0.005             <0.005   ==> ANN is useless since its less than 1/200\n",
        "\n",
        "#### Perfomed bit worse than Baseline LeNet with 3 conv layers.\n",
        "    hw5-cnn 2 conv-layers epoch=30  0.3654             0.1103\n",
        "    vs.\n",
        "    LeNet 3 conv-layers   epoch=30  0.5382             0.1498  <== baseline"
      ]
    },
    {
      "cell_type": "markdown",
      "metadata": {
        "id": "gNMe5kxWJ98C"
      },
      "source": [
        "## Trying different optimization methods e.g. Adam vs. Stocahstic Gradient Descent:"
      ]
    },
    {
      "cell_type": "code",
      "metadata": {
        "id": "2x1EV15VJ98D",
        "outputId": "1396fe07-a920-4d56-9660-da8f72005936"
      },
      "source": [
        "K.clear_session()\n",
        "tensorflow.reset_default_graph()\n",
        "model = Sequential()\n",
        "model.add(Conv2D(32, (3, 3), activation='relu', input_shape=(64, 64, 3)))\n",
        "model.add(MaxPooling2D(pool_size=(2, 2)))\n",
        "model.add(Conv2D(64, (3, 3), activation='relu'))\n",
        "model.add(MaxPooling2D(pool_size=(2, 2)))\n",
        "model.add(Conv2D(64, (3, 3), activation='relu'))\n",
        "model.add(MaxPooling2D(pool_size=(2, 2)))\n",
        "model.add(Flatten())\n",
        "model.add(Dense(1024, activation='relu'))\n",
        "model.add(Dense(200, activation='softmax'))\n",
        "optimizer=SGD(lr=0.00001, momentum=0.0, decay=0.0, nesterov=False)\n",
        "model.compile(optimizer=optimizer,loss='categorical_crossentropy',metrics=['accuracy'])\n",
        "model.fit(traindata, trainlabel, epochs=30, batch_size=64)\n",
        "p=model.evaluate(valdata, vallabel)\n",
        "print(p)"
      ],
      "execution_count": null,
      "outputs": [
        {
          "output_type": "stream",
          "text": [
            "Epoch 1/30\n",
            "100000/100000 [==============================] - 32s 316us/step - loss: 14.3129 - acc: 0.0071\n",
            "Epoch 2/30\n",
            "100000/100000 [==============================] - 31s 314us/step - loss: 7.9641 - acc: 0.0065\n",
            "Epoch 3/30\n",
            "100000/100000 [==============================] - 31s 314us/step - loss: 5.5059 - acc: 0.0057\n",
            "Epoch 4/30\n",
            "100000/100000 [==============================] - 31s 313us/step - loss: 5.3904 - acc: 0.0058\n",
            "Epoch 5/30\n",
            "100000/100000 [==============================] - 31s 313us/step - loss: 5.3578 - acc: 0.0060\n",
            "Epoch 6/30\n",
            "100000/100000 [==============================] - 31s 313us/step - loss: 5.3421 - acc: 0.0064\n",
            "Epoch 7/30\n",
            "100000/100000 [==============================] - 31s 313us/step - loss: 5.3328 - acc: 0.0066\n",
            "Epoch 8/30\n",
            "100000/100000 [==============================] - 31s 313us/step - loss: 5.3267 - acc: 0.0065\n",
            "Epoch 9/30\n",
            "100000/100000 [==============================] - 31s 313us/step - loss: 5.3224 - acc: 0.0063\n",
            "Epoch 10/30\n",
            "100000/100000 [==============================] - 31s 313us/step - loss: 5.3191 - acc: 0.0061\n",
            "Epoch 11/30\n",
            "100000/100000 [==============================] - 31s 313us/step - loss: 5.3164 - acc: 0.0061\n",
            "Epoch 12/30\n",
            "100000/100000 [==============================] - 31s 314us/step - loss: 5.3142 - acc: 0.0061\n",
            "Epoch 13/30\n",
            "100000/100000 [==============================] - 31s 313us/step - loss: 5.3124 - acc: 0.0062\n",
            "Epoch 14/30\n",
            "100000/100000 [==============================] - 31s 313us/step - loss: 5.3109 - acc: 0.0063\n",
            "Epoch 15/30\n",
            "100000/100000 [==============================] - 31s 313us/step - loss: 5.3096 - acc: 0.0060\n",
            "Epoch 16/30\n",
            "100000/100000 [==============================] - 31s 313us/step - loss: 5.3084 - acc: 0.0061\n",
            "Epoch 17/30\n",
            "100000/100000 [==============================] - 31s 313us/step - loss: 5.3074 - acc: 0.0062\n",
            "Epoch 18/30\n",
            "100000/100000 [==============================] - 31s 313us/step - loss: 5.3066 - acc: 0.00621s - loss - ETA: 0s - loss: 5.3066 - acc\n",
            "Epoch 19/30\n",
            "100000/100000 [==============================] - 31s 314us/step - loss: 5.3058 - acc: 0.00620s - loss: 5.3058 - \n",
            "Epoch 20/30\n",
            "100000/100000 [==============================] - 31s 313us/step - loss: 5.3051 - acc: 0.0062\n",
            "Epoch 21/30\n",
            "100000/100000 [==============================] - 31s 313us/step - loss: 5.3044 - acc: 0.0062\n",
            "Epoch 22/30\n",
            "100000/100000 [==============================] - 31s 313us/step - loss: 5.3038 - acc: 0.0061\n",
            "Epoch 23/30\n",
            "100000/100000 [==============================] - 31s 313us/step - loss: 5.3033 - acc: 0.0062\n",
            "Epoch 24/30\n",
            "100000/100000 [==============================] - 31s 313us/step - loss: 5.3028 - acc: 0.0062\n",
            "Epoch 25/30\n",
            "100000/100000 [==============================] - 31s 313us/step - loss: 5.3023 - acc: 0.0062\n",
            "Epoch 26/30\n",
            "100000/100000 [==============================] - 31s 314us/step - loss: 5.3019 - acc: 0.00630s - loss: 5.3019 -\n",
            "Epoch 27/30\n",
            "100000/100000 [==============================] - 31s 314us/step - loss: 5.3014 - acc: 0.0064\n",
            "Epoch 28/30\n",
            "100000/100000 [==============================] - 31s 313us/step - loss: 5.3010 - acc: 0.0065\n",
            "Epoch 29/30\n",
            "100000/100000 [==============================] - 31s 314us/step - loss: 5.3006 - acc: 0.0065\n",
            "Epoch 30/30\n",
            "100000/100000 [==============================] - 31s 313us/step - loss: 5.3002 - acc: 0.0065\n",
            "10000/10000 [==============================] - 2s 175us/step\n",
            "[5.30146901550293, 0.0063]\n"
          ],
          "name": "stdout"
        }
      ]
    },
    {
      "cell_type": "markdown",
      "metadata": {
        "id": "4XnoySoXJ98E"
      },
      "source": [
        "### Result for Optimizer SGD vs. Adam:\n",
        "    method:      epoch:    training accuracy: test accuracy:  \n",
        "    w/o callback epoch=10  0.0131             0.0114  \n",
        "    w/o callback epoch=30  0.0065             0.0063\n",
        "\n",
        "#### SGD much worse than Adam"
      ]
    },
    {
      "cell_type": "markdown",
      "metadata": {
        "id": "HqVSLv12J98F"
      },
      "source": [
        "## Trying different pooling functions e.g. Average pooling, Max pooling:"
      ]
    },
    {
      "cell_type": "code",
      "metadata": {
        "id": "hiJJa3OhJ98F",
        "outputId": "4450cfb8-18d1-4bf9-eb8a-f663aae69116"
      },
      "source": [
        "K.clear_session()\n",
        "tensorflow.reset_default_graph()\n",
        "model = Sequential()\n",
        "model.add(Conv2D(32, (3, 3), activation='relu', input_shape=(64, 64, 3)))\n",
        "model.add(AveragePooling2D(pool_size=(2, 2)))\n",
        "model.add(Conv2D(64, (3, 3), activation='relu'))\n",
        "model.add(AveragePooling2D(pool_size=(2, 2)))\n",
        "model.add(Conv2D(64, (3, 3), activation='relu'))\n",
        "model.add(AveragePooling2D(pool_size=(2, 2)))\n",
        "model.add(Flatten())\n",
        "model.add(Dense(1024, activation='relu'))\n",
        "model.add(Dense(200, activation='softmax'))\n",
        "optimizer=Adam(lr=0.00001, beta_1=0.9, beta_2=0.999, epsilon=1e-08)\n",
        "model.compile(optimizer=optimizer,loss='categorical_crossentropy',metrics=['accuracy'])\n",
        "model.fit(traindata, trainlabel, epochs=30, batch_size=64)\n",
        "p=model.evaluate(valdata, vallabel)\n",
        "print(p)"
      ],
      "execution_count": null,
      "outputs": [
        {
          "output_type": "stream",
          "text": [
            "Epoch 1/30\n",
            "100000/100000 [==============================] - 37s 365us/step - loss: 7.2979 - acc: 0.0168\n",
            "Epoch 2/30\n",
            "100000/100000 [==============================] - 36s 358us/step - loss: 4.9930 - acc: 0.0411\n",
            "Epoch 3/30\n",
            "100000/100000 [==============================] - 36s 358us/step - loss: 4.7602 - acc: 0.0649\n",
            "Epoch 4/30\n",
            "100000/100000 [==============================] - 36s 358us/step - loss: 4.5627 - acc: 0.0882\n",
            "Epoch 5/30\n",
            "100000/100000 [==============================] - 36s 358us/step - loss: 4.3882 - acc: 0.1105\n",
            "Epoch 6/30\n",
            "100000/100000 [==============================] - 36s 358us/step - loss: 4.2368 - acc: 0.1295\n",
            "Epoch 7/30\n",
            "100000/100000 [==============================] - 36s 358us/step - loss: 4.1072 - acc: 0.1470\n",
            "Epoch 8/30\n",
            "100000/100000 [==============================] - 36s 358us/step - loss: 3.9949 - acc: 0.1638\n",
            "Epoch 9/30\n",
            "100000/100000 [==============================] - 36s 358us/step - loss: 3.8946 - acc: 0.1791\n",
            "Epoch 10/30\n",
            "100000/100000 [==============================] - 36s 358us/step - loss: 3.8036 - acc: 0.1929\n",
            "Epoch 11/30\n",
            "100000/100000 [==============================] - 36s 358us/step - loss: 3.7186 - acc: 0.2065\n",
            "Epoch 12/30\n",
            "100000/100000 [==============================] - 36s 358us/step - loss: 3.6371 - acc: 0.2193\n",
            "Epoch 13/30\n",
            "100000/100000 [==============================] - 36s 358us/step - loss: 3.5633 - acc: 0.2323\n",
            "Epoch 14/30\n",
            "100000/100000 [==============================] - 36s 358us/step - loss: 3.4901 - acc: 0.2454\n",
            "Epoch 15/30\n",
            "100000/100000 [==============================] - 36s 358us/step - loss: 3.4206 - acc: 0.2567\n",
            "Epoch 16/30\n",
            "100000/100000 [==============================] - 36s 358us/step - loss: 3.3543 - acc: 0.2671\n",
            "Epoch 17/30\n",
            "100000/100000 [==============================] - 36s 358us/step - loss: 3.2895 - acc: 0.2792\n",
            "Epoch 18/30\n",
            "100000/100000 [==============================] - 36s 358us/step - loss: 3.2269 - acc: 0.2914\n",
            "Epoch 19/30\n",
            "100000/100000 [==============================] - 36s 358us/step - loss: 3.1667 - acc: 0.3004\n",
            "Epoch 20/30\n",
            "100000/100000 [==============================] - 36s 359us/step - loss: 3.1079 - acc: 0.3122\n",
            "Epoch 21/30\n",
            "100000/100000 [==============================] - 36s 358us/step - loss: 3.0506 - acc: 0.3222\n",
            "Epoch 22/30\n",
            "100000/100000 [==============================] - 36s 359us/step - loss: 2.9950 - acc: 0.3334\n",
            "Epoch 23/30\n",
            "100000/100000 [==============================] - 36s 358us/step - loss: 2.9402 - acc: 0.3424\n",
            "Epoch 24/30\n",
            "100000/100000 [==============================] - 36s 358us/step - loss: 2.8863 - acc: 0.3529\n",
            "Epoch 25/30\n",
            "100000/100000 [==============================] - 36s 358us/step - loss: 2.8339 - acc: 0.3624\n",
            "Epoch 26/30\n",
            "100000/100000 [==============================] - 36s 358us/step - loss: 2.7814 - acc: 0.3739\n",
            "Epoch 27/30\n",
            "100000/100000 [==============================] - 36s 358us/step - loss: 2.7306 - acc: 0.3834\n",
            "Epoch 28/30\n",
            "100000/100000 [==============================] - 36s 358us/step - loss: 2.6787 - acc: 0.3938\n",
            "Epoch 29/30\n",
            "100000/100000 [==============================] - 36s 358us/step - loss: 2.6317 - acc: 0.4037\n",
            "Epoch 30/30\n",
            "100000/100000 [==============================] - 36s 358us/step - loss: 2.5803 - acc: 0.4132\n",
            "10000/10000 [==============================] - 2s 178us/step\n",
            "[4.033133199310303, 0.1944]\n"
          ],
          "name": "stdout"
        }
      ]
    },
    {
      "cell_type": "markdown",
      "metadata": {
        "id": "LzmWA74AJ98J"
      },
      "source": [
        "### Result for Optimizer SGD vs. Adam:\n",
        "    method:      epoch:    training accuracy: test accuracy:  \n",
        "    w/o callback epoch=10  0.1891             0.1408 \n",
        "\n",
        "#### AvgPooling has better test accuracy than MaxPooling\n",
        "    AvgPooling   epoch=30  0.4132             0.1944\n",
        "    vs.\n",
        "    MaxPooling   epoch=30  0.5382             0.1498    <== baseline"
      ]
    },
    {
      "cell_type": "markdown",
      "metadata": {
        "id": "1h02Ru1TJ98J"
      },
      "source": [
        "## Trying to use different activation functions e.g. ReLu vs. Sigmoid."
      ]
    },
    {
      "cell_type": "code",
      "metadata": {
        "id": "cbo-J488J98K",
        "outputId": "453ccddc-d281-4bcb-c0f4-c6708f03eab9"
      },
      "source": [
        "K.clear_session()\n",
        "tensorflow.reset_default_graph()\n",
        "model = Sequential()\n",
        "model.add(Conv2D(32, (3, 3), activation='sigmoid', input_shape=(64, 64, 3)))\n",
        "model.add(MaxPooling2D(pool_size=(2, 2)))\n",
        "model.add(Conv2D(64, (3, 3), activation='sigmoid'))\n",
        "model.add(MaxPooling2D(pool_size=(2, 2)))\n",
        "model.add(Conv2D(64, (3, 3), activation='sigmoid'))\n",
        "model.add(MaxPooling2D(pool_size=(2, 2)))\n",
        "model.add(Flatten())\n",
        "model.add(Dense(1024, activation='sigmoid'))\n",
        "model.add(Dense(200, activation='softmax'))\n",
        "optimizer=Adam(lr=0.00001, beta_1=0.9, beta_2=0.999, epsilon=1e-08)\n",
        "model.compile(optimizer=optimizer,loss='categorical_crossentropy',metrics=['accuracy'])\n",
        "model.fit(traindata, trainlabel, epochs=30, batch_size=64)\n",
        "p=model.evaluate(valdata, vallabel)\n",
        "print(p)"
      ],
      "execution_count": null,
      "outputs": [
        {
          "output_type": "stream",
          "text": [
            "Epoch 1/30\n",
            "100000/100000 [==============================] - 36s 360us/step - loss: 5.3152 - acc: 0.0047\n",
            "Epoch 2/30\n",
            "100000/100000 [==============================] - 35s 355us/step - loss: 5.3033 - acc: 0.0050\n",
            "Epoch 3/30\n",
            "100000/100000 [==============================] - 35s 354us/step - loss: 5.3004 - acc: 0.0052\n",
            "Epoch 4/30\n",
            "100000/100000 [==============================] - 35s 355us/step - loss: 5.2845 - acc: 0.0080\n",
            "Epoch 5/30\n",
            "100000/100000 [==============================] - 36s 355us/step - loss: 5.2091 - acc: 0.0129\n",
            "Epoch 6/30\n",
            "100000/100000 [==============================] - 35s 355us/step - loss: 5.1309 - acc: 0.0168\n",
            "Epoch 7/30\n",
            "100000/100000 [==============================] - 35s 354us/step - loss: 5.0887 - acc: 0.0203\n",
            "Epoch 8/30\n",
            "100000/100000 [==============================] - 35s 354us/step - loss: 5.0552 - acc: 0.0237\n",
            "Epoch 9/30\n",
            "100000/100000 [==============================] - 35s 355us/step - loss: 5.0162 - acc: 0.0286\n",
            "Epoch 10/30\n",
            "100000/100000 [==============================] - 35s 355us/step - loss: 4.9691 - acc: 0.0341\n",
            "Epoch 11/30\n",
            "100000/100000 [==============================] - 35s 354us/step - loss: 4.9232 - acc: 0.0396\n",
            "Epoch 12/30\n",
            "100000/100000 [==============================] - 35s 354us/step - loss: 4.8861 - acc: 0.04341s - lo\n",
            "Epoch 13/30\n",
            "100000/100000 [==============================] - 35s 354us/step - loss: 4.8556 - acc: 0.0474\n",
            "Epoch 14/30\n",
            "100000/100000 [==============================] - 35s 354us/step - loss: 4.8288 - acc: 0.0511\n",
            "Epoch 15/30\n",
            "100000/100000 [==============================] - 35s 354us/step - loss: 4.8040 - acc: 0.0538\n",
            "Epoch 16/30\n",
            "100000/100000 [==============================] - 35s 354us/step - loss: 4.7806 - acc: 0.0563\n",
            "Epoch 17/30\n",
            "100000/100000 [==============================] - 35s 354us/step - loss: 4.7571 - acc: 0.0586\n",
            "Epoch 18/30\n",
            "100000/100000 [==============================] - 35s 354us/step - loss: 4.7336 - acc: 0.0615\n",
            "Epoch 19/30\n",
            "100000/100000 [==============================] - 35s 354us/step - loss: 4.7098 - acc: 0.0648\n",
            "Epoch 20/30\n",
            "100000/100000 [==============================] - 35s 354us/step - loss: 4.6857 - acc: 0.0673\n",
            "Epoch 21/30\n",
            "100000/100000 [==============================] - 35s 354us/step - loss: 4.6624 - acc: 0.0694\n",
            "Epoch 22/30\n",
            "100000/100000 [==============================] - 35s 354us/step - loss: 4.6402 - acc: 0.0718\n",
            "Epoch 23/30\n",
            "100000/100000 [==============================] - 35s 354us/step - loss: 4.6198 - acc: 0.0746\n",
            "Epoch 24/30\n",
            "100000/100000 [==============================] - 35s 354us/step - loss: 4.6015 - acc: 0.0757\n",
            "Epoch 25/30\n",
            "100000/100000 [==============================] - 35s 354us/step - loss: 4.5849 - acc: 0.0784\n",
            "Epoch 26/30\n",
            "100000/100000 [==============================] - 35s 354us/step - loss: 4.5688 - acc: 0.0799\n",
            "Epoch 27/30\n",
            "100000/100000 [==============================] - 35s 354us/step - loss: 4.5538 - acc: 0.0810\n",
            "Epoch 28/30\n",
            "100000/100000 [==============================] - 35s 354us/step - loss: 4.5397 - acc: 0.0828\n",
            "Epoch 29/30\n",
            "100000/100000 [==============================] - 35s 354us/step - loss: 4.5262 - acc: 0.0848\n",
            "Epoch 30/30\n",
            "100000/100000 [==============================] - 35s 354us/step - loss: 4.5129 - acc: 0.0857\n",
            "10000/10000 [==============================] - 2s 176us/step\n",
            "[4.531086987304687, 0.0818]\n"
          ],
          "name": "stdout"
        }
      ]
    },
    {
      "cell_type": "markdown",
      "metadata": {
        "id": "54Rirwx4J98M"
      },
      "source": [
        "### Result for Optimizer SGD vs. Adam:\n",
        "    method:      epoch:    training accuracy: test accuracy:  \n",
        "    w/o callback epoch=10  0.0281             0.0264 \n",
        "    w/o callback epoch=30  0.0857             0.0818\n",
        "\n",
        "#### Sigmoid performed worse"
      ]
    },
    {
      "cell_type": "markdown",
      "metadata": {
        "id": "8knyQ39WJ98N"
      },
      "source": [
        "## Trying to pre-process data by VAE vs. PCA."
      ]
    },
    {
      "cell_type": "markdown",
      "metadata": {
        "id": "fJuf3a4teDBO"
      },
      "source": [
        "### PCA:"
      ]
    },
    {
      "cell_type": "code",
      "metadata": {
        "id": "H3m40lwcJ98O"
      },
      "source": [
        "#PCA\n",
        "def pca(X, d):\n",
        "    # Centralization\n",
        "    means = np.mean(X, 0)\n",
        "    X = X - means\n",
        "\n",
        "    # Covariance Matrix\n",
        "    covM = np.dot(X.T, X)\n",
        "    eigval, eigvec = np.linalg.eig(covM)\n",
        "    indexes = np.argsort(eigval)[-d:]\n",
        "    W = eigvec[:, indexes]\n",
        "    return np.dot(X, W)"
      ],
      "execution_count": null,
      "outputs": []
    },
    {
      "cell_type": "code",
      "metadata": {
        "id": "4qtOR5KHJ98P",
        "outputId": "7c1121a7-8a9f-441d-b528-a791c55762fc"
      },
      "source": [
        "# PCA to process 2d images doesn't make sense, just show effort trying here.\n",
        "#图片实在太大，无法对100000个样本统一做pca，只能单张图片分别做\n",
        "traindata2=np.zeros([100000,32,32])\n",
        "for i in range(100000):\n",
        "    traindata2[i]=pca(traindata[i].reshape(32,64*3*2),32)                \n",
        "    if i%1000==0:\n",
        "        print (i)"
      ],
      "execution_count": null,
      "outputs": [
        {
          "output_type": "stream",
          "text": [
            "c:\\python\\py368\\lib\\site-packages\\ipykernel_launcher.py:3: ComplexWarning: Casting complex values to real discards the imaginary part\n",
            "  This is separate from the ipykernel package so we can avoid doing imports until\n"
          ],
          "name": "stderr"
        },
        {
          "output_type": "stream",
          "text": [
            "0\n",
            "1000\n",
            "2000\n",
            "3000\n",
            "4000\n",
            "5000\n",
            "6000\n"
          ],
          "name": "stdout"
        },
        {
          "output_type": "error",
          "ename": "KeyboardInterrupt",
          "evalue": "",
          "traceback": [
            "\u001b[1;31m---------------------------------------------------------------------------\u001b[0m",
            "\u001b[1;31mKeyboardInterrupt\u001b[0m                         Traceback (most recent call last)",
            "\u001b[1;32m<ipython-input-33-495da519075e>\u001b[0m in \u001b[0;36m<module>\u001b[1;34m\u001b[0m\n\u001b[0;32m      1\u001b[0m \u001b[0mtraindata2\u001b[0m\u001b[1;33m=\u001b[0m\u001b[0mnp\u001b[0m\u001b[1;33m.\u001b[0m\u001b[0mzeros\u001b[0m\u001b[1;33m(\u001b[0m\u001b[1;33m[\u001b[0m\u001b[1;36m100000\u001b[0m\u001b[1;33m,\u001b[0m\u001b[1;36m32\u001b[0m\u001b[1;33m,\u001b[0m\u001b[1;36m32\u001b[0m\u001b[1;33m]\u001b[0m\u001b[1;33m)\u001b[0m\u001b[1;33m\u001b[0m\u001b[1;33m\u001b[0m\u001b[0m\n\u001b[0;32m      2\u001b[0m \u001b[1;32mfor\u001b[0m \u001b[0mi\u001b[0m \u001b[1;32min\u001b[0m \u001b[0mrange\u001b[0m\u001b[1;33m(\u001b[0m\u001b[1;36m100000\u001b[0m\u001b[1;33m)\u001b[0m\u001b[1;33m:\u001b[0m\u001b[1;33m\u001b[0m\u001b[1;33m\u001b[0m\u001b[0m\n\u001b[1;32m----> 3\u001b[1;33m     \u001b[0mtraindata2\u001b[0m\u001b[1;33m[\u001b[0m\u001b[0mi\u001b[0m\u001b[1;33m]\u001b[0m\u001b[1;33m=\u001b[0m\u001b[0mpca\u001b[0m\u001b[1;33m(\u001b[0m\u001b[0mtraindata\u001b[0m\u001b[1;33m[\u001b[0m\u001b[0mi\u001b[0m\u001b[1;33m]\u001b[0m\u001b[1;33m.\u001b[0m\u001b[0mreshape\u001b[0m\u001b[1;33m(\u001b[0m\u001b[1;36m32\u001b[0m\u001b[1;33m,\u001b[0m\u001b[1;36m64\u001b[0m\u001b[1;33m*\u001b[0m\u001b[1;36m3\u001b[0m\u001b[1;33m*\u001b[0m\u001b[1;36m2\u001b[0m\u001b[1;33m)\u001b[0m\u001b[1;33m,\u001b[0m\u001b[1;36m32\u001b[0m\u001b[1;33m)\u001b[0m\u001b[1;33m\u001b[0m\u001b[1;33m\u001b[0m\u001b[0m\n\u001b[0m\u001b[0;32m      4\u001b[0m     \u001b[1;32mif\u001b[0m \u001b[0mi\u001b[0m\u001b[1;33m%\u001b[0m\u001b[1;36m1000\u001b[0m\u001b[1;33m==\u001b[0m\u001b[1;36m0\u001b[0m\u001b[1;33m:\u001b[0m\u001b[1;33m\u001b[0m\u001b[1;33m\u001b[0m\u001b[0m\n\u001b[0;32m      5\u001b[0m         \u001b[0mprint\u001b[0m \u001b[1;33m(\u001b[0m\u001b[0mi\u001b[0m\u001b[1;33m)\u001b[0m\u001b[1;33m\u001b[0m\u001b[1;33m\u001b[0m\u001b[0m\n",
            "\u001b[1;32m<ipython-input-31-b7eaa2f23704>\u001b[0m in \u001b[0;36mpca\u001b[1;34m(X, d)\u001b[0m\n\u001b[0;32m      6\u001b[0m     \u001b[1;31m# Covariance Matrix\u001b[0m\u001b[1;33m\u001b[0m\u001b[1;33m\u001b[0m\u001b[1;33m\u001b[0m\u001b[0m\n\u001b[0;32m      7\u001b[0m     \u001b[0mcovM\u001b[0m \u001b[1;33m=\u001b[0m \u001b[0mnp\u001b[0m\u001b[1;33m.\u001b[0m\u001b[0mdot\u001b[0m\u001b[1;33m(\u001b[0m\u001b[0mX\u001b[0m\u001b[1;33m.\u001b[0m\u001b[0mT\u001b[0m\u001b[1;33m,\u001b[0m \u001b[0mX\u001b[0m\u001b[1;33m)\u001b[0m\u001b[1;33m\u001b[0m\u001b[1;33m\u001b[0m\u001b[0m\n\u001b[1;32m----> 8\u001b[1;33m     \u001b[0meigval\u001b[0m\u001b[1;33m,\u001b[0m \u001b[0meigvec\u001b[0m \u001b[1;33m=\u001b[0m \u001b[0mnp\u001b[0m\u001b[1;33m.\u001b[0m\u001b[0mlinalg\u001b[0m\u001b[1;33m.\u001b[0m\u001b[0meig\u001b[0m\u001b[1;33m(\u001b[0m\u001b[0mcovM\u001b[0m\u001b[1;33m)\u001b[0m\u001b[1;33m\u001b[0m\u001b[1;33m\u001b[0m\u001b[0m\n\u001b[0m\u001b[0;32m      9\u001b[0m     \u001b[0mindexes\u001b[0m \u001b[1;33m=\u001b[0m \u001b[0mnp\u001b[0m\u001b[1;33m.\u001b[0m\u001b[0margsort\u001b[0m\u001b[1;33m(\u001b[0m\u001b[0meigval\u001b[0m\u001b[1;33m)\u001b[0m\u001b[1;33m[\u001b[0m\u001b[1;33m-\u001b[0m\u001b[0md\u001b[0m\u001b[1;33m:\u001b[0m\u001b[1;33m]\u001b[0m\u001b[1;33m\u001b[0m\u001b[1;33m\u001b[0m\u001b[0m\n\u001b[0;32m     10\u001b[0m     \u001b[0mW\u001b[0m \u001b[1;33m=\u001b[0m \u001b[0meigvec\u001b[0m\u001b[1;33m[\u001b[0m\u001b[1;33m:\u001b[0m\u001b[1;33m,\u001b[0m \u001b[0mindexes\u001b[0m\u001b[1;33m]\u001b[0m\u001b[1;33m\u001b[0m\u001b[1;33m\u001b[0m\u001b[0m\n",
            "\u001b[1;32m~\\AppData\\Roaming\\Python\\Python36\\site-packages\\numpy\\linalg\\linalg.py\u001b[0m in \u001b[0;36meig\u001b[1;34m(a)\u001b[0m\n\u001b[0;32m   1309\u001b[0m         _raise_linalgerror_eigenvalues_nonconvergence)\n\u001b[0;32m   1310\u001b[0m     \u001b[0msignature\u001b[0m \u001b[1;33m=\u001b[0m \u001b[1;34m'D->DD'\u001b[0m \u001b[1;32mif\u001b[0m \u001b[0misComplexType\u001b[0m\u001b[1;33m(\u001b[0m\u001b[0mt\u001b[0m\u001b[1;33m)\u001b[0m \u001b[1;32melse\u001b[0m \u001b[1;34m'd->DD'\u001b[0m\u001b[1;33m\u001b[0m\u001b[1;33m\u001b[0m\u001b[0m\n\u001b[1;32m-> 1311\u001b[1;33m     \u001b[0mw\u001b[0m\u001b[1;33m,\u001b[0m \u001b[0mvt\u001b[0m \u001b[1;33m=\u001b[0m \u001b[0m_umath_linalg\u001b[0m\u001b[1;33m.\u001b[0m\u001b[0meig\u001b[0m\u001b[1;33m(\u001b[0m\u001b[0ma\u001b[0m\u001b[1;33m,\u001b[0m \u001b[0msignature\u001b[0m\u001b[1;33m=\u001b[0m\u001b[0msignature\u001b[0m\u001b[1;33m,\u001b[0m \u001b[0mextobj\u001b[0m\u001b[1;33m=\u001b[0m\u001b[0mextobj\u001b[0m\u001b[1;33m)\u001b[0m\u001b[1;33m\u001b[0m\u001b[1;33m\u001b[0m\u001b[0m\n\u001b[0m\u001b[0;32m   1312\u001b[0m \u001b[1;33m\u001b[0m\u001b[0m\n\u001b[0;32m   1313\u001b[0m     \u001b[1;32mif\u001b[0m \u001b[1;32mnot\u001b[0m \u001b[0misComplexType\u001b[0m\u001b[1;33m(\u001b[0m\u001b[0mt\u001b[0m\u001b[1;33m)\u001b[0m \u001b[1;32mand\u001b[0m \u001b[0mall\u001b[0m\u001b[1;33m(\u001b[0m\u001b[0mw\u001b[0m\u001b[1;33m.\u001b[0m\u001b[0mimag\u001b[0m \u001b[1;33m==\u001b[0m \u001b[1;36m0.0\u001b[0m\u001b[1;33m)\u001b[0m\u001b[1;33m:\u001b[0m\u001b[1;33m\u001b[0m\u001b[1;33m\u001b[0m\u001b[0m\n",
            "\u001b[1;31mKeyboardInterrupt\u001b[0m: "
          ]
        }
      ]
    },
    {
      "cell_type": "code",
      "metadata": {
        "id": "E81znRpgJ98S",
        "outputId": "56c599c6-94a5-4372-9395-7f8b590bd671"
      },
      "source": [
        "# PCA took too long to process. So using only 6000 images here.\n",
        "K.clear_session()\n",
        "tensorflow.reset_default_graph()\n",
        "model = Sequential()\n",
        "model.add(Flatten(input_shape=(32,32)))\n",
        "model.add(Dense(1024, activation='relu'))\n",
        "model.add(Dense(200, activation='softmax'))\n",
        "optimizer=Adam(lr=0.00001, beta_1=0.9, beta_2=0.999, epsilon=1e-08)\n",
        "model.compile(optimizer=optimizer,loss='categorical_crossentropy',metrics=['accuracy'])\n",
        "model.fit(traindata2[0:6000], trainlabel[0:6000], epochs=30, batch_size=64)"
      ],
      "execution_count": null,
      "outputs": [
        {
          "output_type": "stream",
          "text": [
            "Epoch 1/30\n",
            "6000/6000 [==============================] - 3s 531us/step - loss: 15.8399 - acc: 0.0163\n",
            "Epoch 2/30\n",
            "6000/6000 [==============================] - 3s 437us/step - loss: 15.7501 - acc: 0.0218\n",
            "Epoch 3/30\n",
            "6000/6000 [==============================] - 0s 71us/step - loss: 15.6265 - acc: 0.0287\n",
            "Epoch 4/30\n",
            "6000/6000 [==============================] - 0s 71us/step - loss: 15.5469 - acc: 0.0340\n",
            "Epoch 5/30\n",
            "6000/6000 [==============================] - 0s 72us/step - loss: 15.4912 - acc: 0.0383\n",
            "Epoch 6/30\n",
            "6000/6000 [==============================] - 0s 72us/step - loss: 15.4666 - acc: 0.0400\n",
            "Epoch 7/30\n",
            "6000/6000 [==============================] - 0s 71us/step - loss: 15.4126 - acc: 0.0427\n",
            "Epoch 8/30\n",
            "6000/6000 [==============================] - 0s 71us/step - loss: 15.3666 - acc: 0.0458\n",
            "Epoch 9/30\n",
            "6000/6000 [==============================] - 0s 70us/step - loss: 15.3178 - acc: 0.0488\n",
            "Epoch 10/30\n",
            "6000/6000 [==============================] - 0s 69us/step - loss: 15.2494 - acc: 0.0528\n",
            "Epoch 11/30\n",
            "6000/6000 [==============================] - 0s 71us/step - loss: 15.1936 - acc: 0.0562\n",
            "Epoch 12/30\n",
            "6000/6000 [==============================] - 0s 70us/step - loss: 15.1299 - acc: 0.0600\n",
            "Epoch 13/30\n",
            "6000/6000 [==============================] - 0s 73us/step - loss: 15.0581 - acc: 0.0648\n",
            "Epoch 14/30\n",
            "6000/6000 [==============================] - 0s 70us/step - loss: 15.0208 - acc: 0.0675\n",
            "Epoch 15/30\n",
            "6000/6000 [==============================] - 0s 71us/step - loss: 14.9807 - acc: 0.0695\n",
            "Epoch 16/30\n",
            "6000/6000 [==============================] - 0s 70us/step - loss: 14.9327 - acc: 0.0728\n",
            "Epoch 17/30\n",
            "6000/6000 [==============================] - 0s 71us/step - loss: 14.8979 - acc: 0.0750\n",
            "Epoch 18/30\n",
            "6000/6000 [==============================] - 0s 73us/step - loss: 14.8584 - acc: 0.0773\n",
            "Epoch 19/30\n",
            "6000/6000 [==============================] - 0s 71us/step - loss: 14.8394 - acc: 0.0788\n",
            "Epoch 20/30\n",
            "6000/6000 [==============================] - 0s 70us/step - loss: 14.8291 - acc: 0.0792\n",
            "Epoch 21/30\n",
            "6000/6000 [==============================] - 0s 70us/step - loss: 14.8114 - acc: 0.0808\n",
            "Epoch 22/30\n",
            "6000/6000 [==============================] - 0s 73us/step - loss: 14.8071 - acc: 0.0812\n",
            "Epoch 23/30\n",
            "6000/6000 [==============================] - 0s 70us/step - loss: 14.8045 - acc: 0.0815\n",
            "Epoch 24/30\n",
            "6000/6000 [==============================] - 0s 70us/step - loss: 14.8045 - acc: 0.0815\n",
            "Epoch 25/30\n",
            "6000/6000 [==============================] - 0s 73us/step - loss: 14.8045 - acc: 0.0815\n",
            "Epoch 26/30\n",
            "6000/6000 [==============================] - 0s 71us/step - loss: 14.8045 - acc: 0.0815\n",
            "Epoch 27/30\n",
            "6000/6000 [==============================] - 0s 70us/step - loss: 14.8045 - acc: 0.0815\n",
            "Epoch 28/30\n",
            "6000/6000 [==============================] - 0s 70us/step - loss: 14.8045 - acc: 0.0815\n",
            "Epoch 29/30\n",
            "6000/6000 [==============================] - 0s 74us/step - loss: 14.8045 - acc: 0.0815\n",
            "Epoch 30/30\n",
            "6000/6000 [==============================] - 0s 70us/step - loss: 14.8045 - acc: 0.0815\n"
          ],
          "name": "stdout"
        },
        {
          "output_type": "execute_result",
          "data": {
            "text/plain": [
              "<tensorflow.python.keras.callbacks.History at 0x210b815fa58>"
            ]
          },
          "metadata": {
            "tags": []
          },
          "execution_count": 36
        }
      ]
    },
    {
      "cell_type": "code",
      "metadata": {
        "id": "xeZuq2JxJ98U",
        "outputId": "532408d8-46f3-4ca7-a52a-3bcfd7f88da8"
      },
      "source": [
        "k=6000\n",
        "valdata2=np.zeros([k,32,32])\n",
        "for i in range(k):\n",
        "    valdata2[i]=pca(valdata[i].reshape(32,64*3*2),32)                \n",
        "    if i%1000==0:\n",
        "        print (i)\n"
      ],
      "execution_count": null,
      "outputs": [
        {
          "output_type": "stream",
          "text": [
            "0\n"
          ],
          "name": "stdout"
        },
        {
          "output_type": "stream",
          "text": [
            "c:\\python\\py368\\lib\\site-packages\\ipykernel_launcher.py:4: ComplexWarning: Casting complex values to real discards the imaginary part\n",
            "  after removing the cwd from sys.path.\n"
          ],
          "name": "stderr"
        },
        {
          "output_type": "stream",
          "text": [
            "1000\n",
            "2000\n"
          ],
          "name": "stdout"
        },
        {
          "output_type": "error",
          "ename": "KeyboardInterrupt",
          "evalue": "",
          "traceback": [
            "\u001b[1;31m---------------------------------------------------------------------------\u001b[0m",
            "\u001b[1;31mKeyboardInterrupt\u001b[0m                         Traceback (most recent call last)",
            "\u001b[1;32m<ipython-input-37-40290358ae19>\u001b[0m in \u001b[0;36m<module>\u001b[1;34m\u001b[0m\n\u001b[0;32m      2\u001b[0m \u001b[0mvaldata2\u001b[0m\u001b[1;33m=\u001b[0m\u001b[0mnp\u001b[0m\u001b[1;33m.\u001b[0m\u001b[0mzeros\u001b[0m\u001b[1;33m(\u001b[0m\u001b[1;33m[\u001b[0m\u001b[0mk\u001b[0m\u001b[1;33m,\u001b[0m\u001b[1;36m32\u001b[0m\u001b[1;33m,\u001b[0m\u001b[1;36m32\u001b[0m\u001b[1;33m]\u001b[0m\u001b[1;33m)\u001b[0m\u001b[1;33m\u001b[0m\u001b[1;33m\u001b[0m\u001b[0m\n\u001b[0;32m      3\u001b[0m \u001b[1;32mfor\u001b[0m \u001b[0mi\u001b[0m \u001b[1;32min\u001b[0m \u001b[0mrange\u001b[0m\u001b[1;33m(\u001b[0m\u001b[0mk\u001b[0m\u001b[1;33m)\u001b[0m\u001b[1;33m:\u001b[0m\u001b[1;33m\u001b[0m\u001b[1;33m\u001b[0m\u001b[0m\n\u001b[1;32m----> 4\u001b[1;33m     \u001b[0mvaldata2\u001b[0m\u001b[1;33m[\u001b[0m\u001b[0mi\u001b[0m\u001b[1;33m]\u001b[0m\u001b[1;33m=\u001b[0m\u001b[0mpca\u001b[0m\u001b[1;33m(\u001b[0m\u001b[0mvaldata\u001b[0m\u001b[1;33m[\u001b[0m\u001b[0mi\u001b[0m\u001b[1;33m]\u001b[0m\u001b[1;33m.\u001b[0m\u001b[0mreshape\u001b[0m\u001b[1;33m(\u001b[0m\u001b[1;36m32\u001b[0m\u001b[1;33m,\u001b[0m\u001b[1;36m64\u001b[0m\u001b[1;33m*\u001b[0m\u001b[1;36m3\u001b[0m\u001b[1;33m*\u001b[0m\u001b[1;36m2\u001b[0m\u001b[1;33m)\u001b[0m\u001b[1;33m,\u001b[0m\u001b[1;36m32\u001b[0m\u001b[1;33m)\u001b[0m\u001b[1;33m\u001b[0m\u001b[1;33m\u001b[0m\u001b[0m\n\u001b[0m\u001b[0;32m      5\u001b[0m     \u001b[1;32mif\u001b[0m \u001b[0mi\u001b[0m\u001b[1;33m%\u001b[0m\u001b[1;36m1000\u001b[0m\u001b[1;33m==\u001b[0m\u001b[1;36m0\u001b[0m\u001b[1;33m:\u001b[0m\u001b[1;33m\u001b[0m\u001b[1;33m\u001b[0m\u001b[0m\n\u001b[0;32m      6\u001b[0m         \u001b[0mprint\u001b[0m \u001b[1;33m(\u001b[0m\u001b[0mi\u001b[0m\u001b[1;33m)\u001b[0m\u001b[1;33m\u001b[0m\u001b[1;33m\u001b[0m\u001b[0m\n",
            "\u001b[1;32m<ipython-input-31-b7eaa2f23704>\u001b[0m in \u001b[0;36mpca\u001b[1;34m(X, d)\u001b[0m\n\u001b[0;32m      6\u001b[0m     \u001b[1;31m# Covariance Matrix\u001b[0m\u001b[1;33m\u001b[0m\u001b[1;33m\u001b[0m\u001b[1;33m\u001b[0m\u001b[0m\n\u001b[0;32m      7\u001b[0m     \u001b[0mcovM\u001b[0m \u001b[1;33m=\u001b[0m \u001b[0mnp\u001b[0m\u001b[1;33m.\u001b[0m\u001b[0mdot\u001b[0m\u001b[1;33m(\u001b[0m\u001b[0mX\u001b[0m\u001b[1;33m.\u001b[0m\u001b[0mT\u001b[0m\u001b[1;33m,\u001b[0m \u001b[0mX\u001b[0m\u001b[1;33m)\u001b[0m\u001b[1;33m\u001b[0m\u001b[1;33m\u001b[0m\u001b[0m\n\u001b[1;32m----> 8\u001b[1;33m     \u001b[0meigval\u001b[0m\u001b[1;33m,\u001b[0m \u001b[0meigvec\u001b[0m \u001b[1;33m=\u001b[0m \u001b[0mnp\u001b[0m\u001b[1;33m.\u001b[0m\u001b[0mlinalg\u001b[0m\u001b[1;33m.\u001b[0m\u001b[0meig\u001b[0m\u001b[1;33m(\u001b[0m\u001b[0mcovM\u001b[0m\u001b[1;33m)\u001b[0m\u001b[1;33m\u001b[0m\u001b[1;33m\u001b[0m\u001b[0m\n\u001b[0m\u001b[0;32m      9\u001b[0m     \u001b[0mindexes\u001b[0m \u001b[1;33m=\u001b[0m \u001b[0mnp\u001b[0m\u001b[1;33m.\u001b[0m\u001b[0margsort\u001b[0m\u001b[1;33m(\u001b[0m\u001b[0meigval\u001b[0m\u001b[1;33m)\u001b[0m\u001b[1;33m[\u001b[0m\u001b[1;33m-\u001b[0m\u001b[0md\u001b[0m\u001b[1;33m:\u001b[0m\u001b[1;33m]\u001b[0m\u001b[1;33m\u001b[0m\u001b[1;33m\u001b[0m\u001b[0m\n\u001b[0;32m     10\u001b[0m     \u001b[0mW\u001b[0m \u001b[1;33m=\u001b[0m \u001b[0meigvec\u001b[0m\u001b[1;33m[\u001b[0m\u001b[1;33m:\u001b[0m\u001b[1;33m,\u001b[0m \u001b[0mindexes\u001b[0m\u001b[1;33m]\u001b[0m\u001b[1;33m\u001b[0m\u001b[1;33m\u001b[0m\u001b[0m\n",
            "\u001b[1;32m~\\AppData\\Roaming\\Python\\Python36\\site-packages\\numpy\\linalg\\linalg.py\u001b[0m in \u001b[0;36meig\u001b[1;34m(a)\u001b[0m\n\u001b[0;32m   1309\u001b[0m         _raise_linalgerror_eigenvalues_nonconvergence)\n\u001b[0;32m   1310\u001b[0m     \u001b[0msignature\u001b[0m \u001b[1;33m=\u001b[0m \u001b[1;34m'D->DD'\u001b[0m \u001b[1;32mif\u001b[0m \u001b[0misComplexType\u001b[0m\u001b[1;33m(\u001b[0m\u001b[0mt\u001b[0m\u001b[1;33m)\u001b[0m \u001b[1;32melse\u001b[0m \u001b[1;34m'd->DD'\u001b[0m\u001b[1;33m\u001b[0m\u001b[1;33m\u001b[0m\u001b[0m\n\u001b[1;32m-> 1311\u001b[1;33m     \u001b[0mw\u001b[0m\u001b[1;33m,\u001b[0m \u001b[0mvt\u001b[0m \u001b[1;33m=\u001b[0m \u001b[0m_umath_linalg\u001b[0m\u001b[1;33m.\u001b[0m\u001b[0meig\u001b[0m\u001b[1;33m(\u001b[0m\u001b[0ma\u001b[0m\u001b[1;33m,\u001b[0m \u001b[0msignature\u001b[0m\u001b[1;33m=\u001b[0m\u001b[0msignature\u001b[0m\u001b[1;33m,\u001b[0m \u001b[0mextobj\u001b[0m\u001b[1;33m=\u001b[0m\u001b[0mextobj\u001b[0m\u001b[1;33m)\u001b[0m\u001b[1;33m\u001b[0m\u001b[1;33m\u001b[0m\u001b[0m\n\u001b[0m\u001b[0;32m   1312\u001b[0m \u001b[1;33m\u001b[0m\u001b[0m\n\u001b[0;32m   1313\u001b[0m     \u001b[1;32mif\u001b[0m \u001b[1;32mnot\u001b[0m \u001b[0misComplexType\u001b[0m\u001b[1;33m(\u001b[0m\u001b[0mt\u001b[0m\u001b[1;33m)\u001b[0m \u001b[1;32mand\u001b[0m \u001b[0mall\u001b[0m\u001b[1;33m(\u001b[0m\u001b[0mw\u001b[0m\u001b[1;33m.\u001b[0m\u001b[0mimag\u001b[0m \u001b[1;33m==\u001b[0m \u001b[1;36m0.0\u001b[0m\u001b[1;33m)\u001b[0m\u001b[1;33m:\u001b[0m\u001b[1;33m\u001b[0m\u001b[1;33m\u001b[0m\u001b[0m\n",
            "\u001b[1;31mKeyboardInterrupt\u001b[0m: "
          ]
        }
      ]
    },
    {
      "cell_type": "code",
      "metadata": {
        "id": "WKm8hSbpJ98W",
        "outputId": "d3211d57-670a-4d40-cc54-88225dae42dd"
      },
      "source": [
        "p=model.evaluate(valdata2[0:2000], vallabel[0:2000])\n",
        "print(p)"
      ],
      "execution_count": null,
      "outputs": [
        {
          "output_type": "stream",
          "text": [
            "2000/2000 [==============================] - 0s 97us/step\n",
            "[16.05098408508301, 0.004]\n"
          ],
          "name": "stdout"
        }
      ]
    },
    {
      "cell_type": "markdown",
      "metadata": {
        "id": "kgT3UkB4eDBZ"
      },
      "source": [
        "### Result for PCA:"
      ]
    },
    {
      "cell_type": "markdown",
      "metadata": {
        "id": "GOTmINLteDBZ"
      },
      "source": [
        "## VAE:"
      ]
    },
    {
      "cell_type": "code",
      "metadata": {
        "id": "VrN21OzAJ98Y",
        "outputId": "3f736be4-83ad-44b1-9431-05e4f4d1c813"
      },
      "source": [
        "#VAE\n",
        "\n",
        "from tensorflow.keras.losses import mse, binary_crossentropy\n",
        "from tensorflow.keras.layers  import  Reshape,UpSampling2D\n",
        "from tensorflow.keras.backend import set_session\n",
        "K.clear_session()\n",
        "tensorflow.reset_default_graph()\n",
        "config = tensorflow.ConfigProto()\n",
        "config.gpu_options.allow_growth = True  # GPU option\n",
        "set_session(tensorflow.Session(config=config))\n",
        "if 'session' in locals() and tensorflow.session is not None:\n",
        "    print('Close interactive session')\n",
        "    tensorflow.session.close()\n",
        "def sampling(args):\n",
        "    z_mean, z_log_var = args\n",
        "    batch = K.shape(z_mean)[0]\n",
        "    dim = K.int_shape(z_mean)[1]\n",
        "    # by default, random_normal has mean = 0 and std = 1.0\n",
        "    epsilon = K.random_normal(shape=(batch, dim))\n",
        "    return z_mean + K.exp(0.5 * z_log_var) * epsilon\n",
        "\n",
        "x = Input(shape=(64,64,3))\n",
        "h1=Conv2D(8, (3, 3), activation='relu',padding='same',input_shape=(64,64,3))(x)\n",
        "h2=MaxPooling2D(pool_size=(4, 4))(h1)\n",
        "h3=Flatten()(h2)\n",
        "h = Dense(512, activation='relu')(h3)\n",
        "z_mean = Dense(512)(h)\n",
        "z_log_var = Dense(512)(h)\n",
        "\n",
        "z = Lambda(sampling, output_shape=(512,))([z_mean, z_log_var])\n",
        "h_decoded = Dense(512, activation='relu')(z)\n",
        "h1_decoded = Dense(2048, activation='relu')(h_decoded)\n",
        "h2_decoded=Reshape((16,16,8))(h1_decoded)\n",
        "h3_decoded=UpSampling2D(size=(4, 4))(h2_decoded)\n",
        "x_decoded_mean = Conv2D(3, (3, 3), activation='relu',padding='same')(h3_decoded)\n",
        "vae = Model(x, x_decoded_mean)\n",
        "encoder = Model(x, z_mean)\n",
        "vae.summary()\n"
      ],
      "execution_count": null,
      "outputs": [
        {
          "output_type": "stream",
          "text": [
            "__________________________________________________________________________________________________\n",
            "Layer (type)                    Output Shape         Param #     Connected to                     \n",
            "==================================================================================================\n",
            "input_1 (InputLayer)            (None, 64, 64, 3)    0                                            \n",
            "__________________________________________________________________________________________________\n",
            "conv2d (Conv2D)                 (None, 64, 64, 8)    224         input_1[0][0]                    \n",
            "__________________________________________________________________________________________________\n",
            "max_pooling2d (MaxPooling2D)    (None, 16, 16, 8)    0           conv2d[0][0]                     \n",
            "__________________________________________________________________________________________________\n",
            "flatten (Flatten)               (None, 2048)         0           max_pooling2d[0][0]              \n",
            "__________________________________________________________________________________________________\n",
            "dense (Dense)                   (None, 512)          1049088     flatten[0][0]                    \n",
            "__________________________________________________________________________________________________\n",
            "dense_1 (Dense)                 (None, 512)          262656      dense[0][0]                      \n",
            "__________________________________________________________________________________________________\n",
            "dense_2 (Dense)                 (None, 512)          262656      dense[0][0]                      \n",
            "__________________________________________________________________________________________________\n",
            "lambda (Lambda)                 (None, 512)          0           dense_1[0][0]                    \n",
            "                                                                 dense_2[0][0]                    \n",
            "__________________________________________________________________________________________________\n",
            "dense_3 (Dense)                 (None, 512)          262656      lambda[0][0]                     \n",
            "__________________________________________________________________________________________________\n",
            "dense_4 (Dense)                 (None, 2048)         1050624     dense_3[0][0]                    \n",
            "__________________________________________________________________________________________________\n",
            "reshape (Reshape)               (None, 16, 16, 8)    0           dense_4[0][0]                    \n",
            "__________________________________________________________________________________________________\n",
            "up_sampling2d (UpSampling2D)    (None, 64, 64, 8)    0           reshape[0][0]                    \n",
            "__________________________________________________________________________________________________\n",
            "conv2d_1 (Conv2D)               (None, 64, 64, 3)    219         up_sampling2d[0][0]              \n",
            "==================================================================================================\n",
            "Total params: 2,888,123\n",
            "Trainable params: 2,888,123\n",
            "Non-trainable params: 0\n",
            "__________________________________________________________________________________________________\n"
          ],
          "name": "stdout"
        }
      ]
    },
    {
      "cell_type": "code",
      "metadata": {
        "id": "PWokh8z8J98Z",
        "outputId": "2734d820-41d9-4828-80db-6ddbd66b2c39"
      },
      "source": [
        "def vae_loss(x, x_decoded_mean):\n",
        "    xent_loss = binary_crossentropy(x, x_decoded_mean)\n",
        "    xent_loss1=K.mean(K.mean(xent_loss,axis=1),axis=1)\n",
        "    kl_loss = - 0.5 * K.sum(1 + z_log_var - K.square(z_mean) - K.exp(z_log_var), axis=-1)\n",
        "    return  xent_loss1+ kl_loss\n",
        "optimizer=Adam(lr=0.000001, beta_1=0.9, beta_2=0.999, epsilon=1e-08)\n",
        "vae.compile(optimizer=optimizer, loss='mse')\n",
        "vae.fit(traindata[0:10000]/225,traindata[0:10000]/255,epochs=10,batch_size=50)"
      ],
      "execution_count": null,
      "outputs": [
        {
          "output_type": "stream",
          "text": [
            "Epoch 1/10\n",
            "10000/10000 [==============================] - 5s 503us/step - loss: 9.7708\n",
            "Epoch 2/10\n",
            "10000/10000 [==============================] - 4s 430us/step - loss: 9.4609\n",
            "Epoch 3/10\n",
            "10000/10000 [==============================] - 4s 431us/step - loss: 9.1243\n",
            "Epoch 4/10\n",
            "10000/10000 [==============================] - 4s 432us/step - loss: 8.7758\n",
            "Epoch 5/10\n",
            "10000/10000 [==============================] - 4s 431us/step - loss: 8.4291\n",
            "Epoch 6/10\n",
            "10000/10000 [==============================] - 4s 430us/step - loss: 8.0963\n",
            "Epoch 7/10\n",
            "10000/10000 [==============================] - 4s 430us/step - loss: 7.7894\n",
            "Epoch 8/10\n",
            "10000/10000 [==============================] - 4s 430us/step - loss: 7.4782\n",
            "Epoch 9/10\n",
            "10000/10000 [==============================] - 4s 431us/step - loss: 7.1917\n",
            "Epoch 10/10\n",
            "10000/10000 [==============================] - 4s 430us/step - loss: 6.9079\n"
          ],
          "name": "stdout"
        },
        {
          "output_type": "execute_result",
          "data": {
            "text/plain": [
              "<tensorflow.python.keras.callbacks.History at 0x20534a28390>"
            ]
          },
          "metadata": {
            "tags": []
          },
          "execution_count": 85
        }
      ]
    },
    {
      "cell_type": "code",
      "metadata": {
        "id": "m8-sfR-YJ98b",
        "outputId": "e66d2aab-9504-4a76-dcf4-68a4042fa17a"
      },
      "source": [
        "trainvae = encoder.predict(traindata[0:10000]/225, batch_size=50)\n",
        "valvae=encoder.predict(valdata[0:10000]/225, batch_size=50)\n",
        "\n",
        "\n",
        "model = Sequential()\n",
        "model.add(Dense(1024, activation='relu',input_shape=(512,)))\n",
        "model.add(Dense(200, activation='softmax'))\n",
        "model.summary()"
      ],
      "execution_count": null,
      "outputs": [
        {
          "output_type": "stream",
          "text": [
            "_________________________________________________________________\n",
            "Layer (type)                 Output Shape              Param #   \n",
            "=================================================================\n",
            "dense_6 (Dense)              (None, 1024)              525312    \n",
            "_________________________________________________________________\n",
            "dense_7 (Dense)              (None, 200)               205000    \n",
            "=================================================================\n",
            "Total params: 730,312\n",
            "Trainable params: 730,312\n",
            "Non-trainable params: 0\n",
            "_________________________________________________________________\n"
          ],
          "name": "stdout"
        }
      ]
    },
    {
      "cell_type": "code",
      "metadata": {
        "id": "LXz7vSxfJ98d",
        "outputId": "783ae71e-6792-4a74-a752-fd75fec6101d"
      },
      "source": [
        "optimizer=Adam(lr=0.00001, beta_1=0.9, beta_2=0.999, epsilon=1e-08)\n",
        "model.compile(optimizer=optimizer,loss='categorical_crossentropy',metrics=['accuracy'])\n",
        "model.fit(trainvae, trainlabel[0:10000], epochs=30, batch_size=64)\n",
        "\n",
        "p=model.evaluate(valvae, vallabel)\n",
        "print(p)"
      ],
      "execution_count": null,
      "outputs": [
        {
          "output_type": "stream",
          "text": [
            "Epoch 1/30\n",
            "10000/10000 [==============================] - 1s 99us/step - loss: 4.7382 - acc: 0.0322\n",
            "Epoch 2/30\n",
            "10000/10000 [==============================] - 1s 60us/step - loss: 3.6582 - acc: 0.0640\n",
            "Epoch 3/30\n",
            "10000/10000 [==============================] - 1s 60us/step - loss: 3.2068 - acc: 0.1009\n",
            "Epoch 4/30\n",
            "10000/10000 [==============================] - 1s 59us/step - loss: 3.0551 - acc: 0.1192\n",
            "Epoch 5/30\n",
            "10000/10000 [==============================] - 1s 59us/step - loss: 2.9819 - acc: 0.1288\n",
            "Epoch 6/30\n",
            "10000/10000 [==============================] - 1s 60us/step - loss: 2.9363 - acc: 0.1479\n",
            "Epoch 7/30\n",
            "10000/10000 [==============================] - 1s 60us/step - loss: 2.9027 - acc: 0.1574\n",
            "Epoch 8/30\n",
            "10000/10000 [==============================] - 1s 60us/step - loss: 2.8744 - acc: 0.1665\n",
            "Epoch 9/30\n",
            "10000/10000 [==============================] - 1s 60us/step - loss: 2.8503 - acc: 0.1809\n",
            "Epoch 10/30\n",
            "10000/10000 [==============================] - 1s 60us/step - loss: 2.8294 - acc: 0.1854\n",
            "Epoch 11/30\n",
            "10000/10000 [==============================] - 1s 62us/step - loss: 2.8106 - acc: 0.1916\n",
            "Epoch 12/30\n",
            "10000/10000 [==============================] - 1s 60us/step - loss: 2.7930 - acc: 0.1990\n",
            "Epoch 13/30\n",
            "10000/10000 [==============================] - 1s 60us/step - loss: 2.7775 - acc: 0.2028\n",
            "Epoch 14/30\n",
            "10000/10000 [==============================] - 1s 60us/step - loss: 2.7635 - acc: 0.2024\n",
            "Epoch 15/30\n",
            "10000/10000 [==============================] - 1s 60us/step - loss: 2.7494 - acc: 0.2062\n",
            "Epoch 16/30\n",
            "10000/10000 [==============================] - 1s 60us/step - loss: 2.7361 - acc: 0.2084\n",
            "Epoch 17/30\n",
            "10000/10000 [==============================] - 1s 60us/step - loss: 2.7244 - acc: 0.2148\n",
            "Epoch 18/30\n",
            "10000/10000 [==============================] - 1s 60us/step - loss: 2.7126 - acc: 0.2171\n",
            "Epoch 19/30\n",
            "10000/10000 [==============================] - 1s 61us/step - loss: 2.7021 - acc: 0.2183\n",
            "Epoch 20/30\n",
            "10000/10000 [==============================] - 1s 60us/step - loss: 2.6917 - acc: 0.2210\n",
            "Epoch 21/30\n",
            "10000/10000 [==============================] - 1s 60us/step - loss: 2.6817 - acc: 0.2209\n",
            "Epoch 22/30\n",
            "10000/10000 [==============================] - 1s 59us/step - loss: 2.6733 - acc: 0.2212\n",
            "Epoch 23/30\n",
            "10000/10000 [==============================] - 1s 60us/step - loss: 2.6636 - acc: 0.2294\n",
            "Epoch 24/30\n",
            "10000/10000 [==============================] - 1s 59us/step - loss: 2.6552 - acc: 0.2330\n",
            "Epoch 25/30\n",
            "10000/10000 [==============================] - 1s 59us/step - loss: 2.6473 - acc: 0.2282\n",
            "Epoch 26/30\n",
            "10000/10000 [==============================] - 1s 60us/step - loss: 2.6393 - acc: 0.2348\n",
            "Epoch 27/30\n",
            "10000/10000 [==============================] - 1s 59us/step - loss: 2.6315 - acc: 0.2371\n",
            "Epoch 28/30\n",
            "10000/10000 [==============================] - 1s 60us/step - loss: 2.6246 - acc: 0.2387\n",
            "Epoch 29/30\n",
            "10000/10000 [==============================] - 1s 60us/step - loss: 2.6174 - acc: 0.2364\n",
            "Epoch 30/30\n",
            "10000/10000 [==============================] - 1s 59us/step - loss: 2.6106 - acc: 0.2394\n",
            "10000/10000 [==============================] - 1s 52us/step\n",
            "[12.39447985534668, 0.0233]\n"
          ],
          "name": "stdout"
        }
      ]
    },
    {
      "cell_type": "markdown",
      "metadata": {
        "id": "ZndjphUNJ98e"
      },
      "source": [
        "总体来说，pac和vae效果不是很好，也有可能是参数设置的不好\n",
        "此外，pac和vae由于需要对数据进行预处理，耗费时间更长"
      ]
    }
  ]
}